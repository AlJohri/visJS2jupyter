{
 "cells": [
  {
   "cell_type": "markdown",
   "metadata": {},
   "source": [
    "# More complex network styling for visJS2jupyter\n",
    "\n",
    "------------\n",
    "\n",
    "Authors: Brin Rosenthal (sbrosenthal@ucsd.edu), Mikayla Webster (m1webste@ucsd.edu), Julia Len (jlen@ucsd.edu)\n",
    "\n",
    "-----------\n",
    "\n",
    "[interactive network](#interactive_network)"
   ]
  },
  {
   "cell_type": "markdown",
   "metadata": {},
   "source": [
    "## Import packages"
   ]
  },
  {
   "cell_type": "code",
   "execution_count": 1,
   "metadata": {
    "collapsed": false
   },
   "outputs": [],
   "source": [
    "import matplotlib as mpl\n",
    "import networkx as nx\n",
    "import visJS2jupyter.visJS_module\n"
   ]
  },
  {
   "cell_type": "code",
   "execution_count": 2,
   "metadata": {
    "collapsed": true
   },
   "outputs": [],
   "source": [
    "# create a simple graph\n",
    "G = nx.connected_watts_strogatz_graph(30,5,.2)\n",
    "nodes = list(G.nodes()) # type cast to list in order to make compatible with networkx 1.11 and 2.0\n",
    "edges = list(G.edges()) # for nx 2.0, returns an \"EdgeView\" object rather than an iterable\n"
   ]
  },
  {
   "cell_type": "markdown",
   "metadata": {},
   "source": [
    "# Map node attributes to visual properties, and style the nodes and edges\n",
    "\n",
    "- To map node attributes to properties, simply add the property to the graph as a node-attribute, and use the return_node_to_color function"
   ]
  },
  {
   "cell_type": "code",
   "execution_count": 3,
   "metadata": {
    "collapsed": true
   },
   "outputs": [],
   "source": [
    "# add a node attributes to color-code by\n",
    "cc = nx.clustering(G)\n",
    "degree = dict(G.degree()) # nx 2.0 returns a \"DegreeView\" object. Cast to dict to maintain compatibility with nx 1.11\n",
    "bc = nx.betweenness_centrality(G)\n",
    "nx.set_node_attributes(G, name = 'clustering_coefficient', values = cc) # parameter order for name and values is switched \n",
    "nx.set_node_attributes(G, name = 'degree', values = degree)             # between networkx 1.11 and 2.0, therefore we must\n",
    "nx.set_node_attributes(G, name = 'betweenness_centrality', values = bc) # explicitly pass our arguments \n",
    "                                                                        # (not implicitly through position)\n",
    "\n",
    "\n",
    "    "
   ]
  },
  {
   "cell_type": "markdown",
   "metadata": {},
   "source": [
    "<a id='interactive_network'></a>\n",
    "### Interactive network"
   ]
  },
  {
   "cell_type": "code",
   "execution_count": 4,
   "metadata": {
    "collapsed": false
   },
   "outputs": [
    {
     "data": {
      "text/html": [
       "<!doctype html><html><head>  <title>Network | Basic usage</title></head><body><script type=\"text/javascript\">function setUpFrame() {     var frame = window.frames[\"style_file0\"];    frame.runVis([{\"node_shape\": \"dot\", \"degree\": 4, \"title\": 0, \"color\": \"rgba(256, 215, 40, 1)\", \"y\": 873.16811778626516, \"x\": 255.09224901551002, \"border_width\": 0, \"id\": 0}, {\"node_shape\": \"dot\", \"degree\": 5, \"title\": 1, \"color\": \"rgba(256, 99, 156, 1)\", \"y\": 550.80248696361468, \"x\": 22.495452136578479, \"border_width\": 0, \"id\": 1}, {\"node_shape\": \"dot\", \"degree\": 4, \"title\": 2, \"color\": \"rgba(256, 137, 118, 1)\", \"y\": 755.16645450333488, \"x\": 34.734236894622178, \"border_width\": 0, \"id\": 2}, {\"node_shape\": \"dot\", \"degree\": 4, \"title\": 3, \"color\": \"rgba(256, 137, 118, 1)\", \"y\": 732.03340838416671, \"x\": -429.09953975197658, \"border_width\": 0, \"id\": 3}, {\"node_shape\": \"dot\", \"degree\": 4, \"title\": 4, \"color\": \"rgba(256, 214, 41, 1)\", \"y\": 653.29486826456571, \"x\": -810.62167722232834, \"border_width\": 0, \"id\": 4}, {\"node_shape\": \"dot\", \"degree\": 5, \"title\": 5, \"color\": \"rgba(256, 155, 100, 1)\", \"y\": 431.51951110209552, \"x\": -808.22105832537386, \"border_width\": 0, \"id\": 5}, {\"node_shape\": \"dot\", \"degree\": 4, \"title\": 6, \"color\": \"rgba(256, 191, 64, 1)\", \"y\": 269.74256919085542, \"x\": -817.70138164048456, \"border_width\": 0, \"id\": 6}, {\"node_shape\": \"dot\", \"degree\": 4, \"title\": 7, \"color\": \"rgba(256, 120, 135, 1)\", \"y\": -96.547926596246683, \"x\": -810.1584000346495, \"border_width\": 0, \"id\": 7}, {\"node_shape\": \"dot\", \"degree\": 3, \"title\": 8, \"color\": \"rgba(256, 128, 127, 1)\", \"y\": -267.93499385055577, \"x\": -435.89786868958669, \"border_width\": 0, \"id\": 8}, {\"node_shape\": \"dot\", \"degree\": 3, \"title\": 9, \"color\": \"rgba(256, 171, 84, 1)\", \"y\": -610.20767248610775, \"x\": -651.2617972192578, \"border_width\": 0, \"id\": 9}, {\"node_shape\": \"dot\", \"degree\": 5, \"title\": 10, \"color\": \"rgba(256, 60, 195, 1)\", \"y\": -636.82383700154867, \"x\": -203.82236567761265, \"border_width\": 0, \"id\": 10}, {\"node_shape\": \"dot\", \"degree\": 4, \"title\": 11, \"color\": \"rgba(256, 200, 55, 1)\", \"y\": -894.6266545297317, \"x\": -384.66200997284557, \"border_width\": 0, \"id\": 11}, {\"node_shape\": \"dot\", \"degree\": 4, \"title\": 12, \"color\": \"rgba(256, 175, 80, 1)\", \"y\": -740.3288354701632, \"x\": -207.33538586252081, \"border_width\": 0, \"id\": 12}, {\"node_shape\": \"dot\", \"degree\": 4, \"title\": 13, \"color\": \"rgba(256, 136, 119, 1)\", \"y\": -788.71656138047854, \"x\": 14.620996103821064, \"border_width\": 0, \"id\": 13}, {\"node_shape\": \"dot\", \"degree\": 4, \"title\": 14, \"color\": \"rgba(256, 25, 230, 1)\", \"y\": -187.97418632917334, \"x\": -57.320344258752684, \"border_width\": 0, \"id\": 14}, {\"node_shape\": \"dot\", \"degree\": 3, \"title\": 15, \"color\": \"rgba(256, 185, 70, 1)\", \"y\": -994.60948578775515, \"x\": 453.44690386040156, \"border_width\": 0, \"id\": 15}, {\"node_shape\": \"dot\", \"degree\": 3, \"title\": 16, \"color\": \"rgba(256, 205, 50, 1)\", \"y\": -819.69702705587565, \"x\": 802.56162825022841, \"border_width\": 0, \"id\": 16}, {\"node_shape\": \"dot\", \"degree\": 4, \"title\": 17, \"color\": \"rgba(256, 97, 158, 1)\", \"y\": -708.82821838418624, \"x\": 439.78141985254314, \"border_width\": 0, \"id\": 17}, {\"node_shape\": \"dot\", \"degree\": 3, \"title\": 18, \"color\": \"rgba(256, 191, 64, 1)\", \"y\": -396.80207930753346, \"x\": 999.99999999999989, \"border_width\": 0, \"id\": 18}, {\"node_shape\": \"dot\", \"degree\": 4, \"title\": 19, \"color\": \"rgba(256, 131, 124, 1)\", \"y\": -302.30543189223789, \"x\": 765.94527427730361, \"border_width\": 0, \"id\": 19}, {\"node_shape\": \"dot\", \"degree\": 4, \"title\": 20, \"color\": \"rgba(256, 96, 159, 1)\", \"y\": 85.300601825267577, \"x\": 793.37789800438225, \"border_width\": 0, \"id\": 20}, {\"node_shape\": \"dot\", \"degree\": 3, \"title\": 21, \"color\": \"rgba(256, 187, 68, 1)\", \"y\": 82.866282582589776, \"x\": 611.16133099147623, \"border_width\": 0, \"id\": 21}, {\"node_shape\": \"dot\", \"degree\": 5, \"title\": 22, \"color\": \"rgba(256, 89, 166, 1)\", \"y\": 304.43472936664227, \"x\": 375.40552212430316, \"border_width\": 0, \"id\": 22}, {\"node_shape\": \"dot\", \"degree\": 4, \"title\": 23, \"color\": \"rgba(256, 180, 75, 1)\", \"y\": 171.99794701757764, \"x\": 182.71284733588234, \"border_width\": 0, \"id\": 23}, {\"node_shape\": \"dot\", \"degree\": 5, \"title\": 24, \"color\": \"rgba(256, 109, 146, 1)\", \"y\": 83.830317741302906, \"x\": -63.139726230580301, \"border_width\": 0, \"id\": 24}, {\"node_shape\": \"dot\", \"degree\": 5, \"title\": 25, \"color\": \"rgba(256, 143, 112, 1)\", \"y\": 265.06454422218189, \"x\": -328.5632731399657, \"border_width\": 0, \"id\": 25}, {\"node_shape\": \"dot\", \"degree\": 5, \"title\": 26, \"color\": \"rgba(256, 32, 223, 1)\", \"y\": 307.32185322728338, \"x\": -75.088119567164426, \"border_width\": 0, \"id\": 26}, {\"node_shape\": \"dot\", \"degree\": 4, \"title\": 27, \"color\": \"rgba(256, 177, 78, 1)\", \"y\": 487.88888085757026, \"x\": -536.43598228081225, \"border_width\": 0, \"id\": 27}, {\"node_shape\": \"dot\", \"degree\": 4, \"title\": 28, \"color\": \"rgba(256, 111, 144, 1)\", \"y\": 535.2720456709261, \"x\": 454.08312315812003, \"border_width\": 0, \"id\": 28}, {\"node_shape\": \"dot\", \"degree\": 3, \"title\": 29, \"color\": \"rgba(256, 224, 31, 1)\", \"y\": 855.6982913653527, \"x\": 413.91004786873947, \"border_width\": 0, \"id\": 29}], [{\"color\": \"gray\", \"source\": 0, \"target\": 1, \"title\": \"test\"}, {\"color\": \"gray\", \"source\": 0, \"target\": 2, \"title\": \"test\"}, {\"color\": \"gray\", \"source\": 0, \"target\": 28, \"title\": \"test\"}, {\"color\": \"gray\", \"source\": 0, \"target\": 29, \"title\": \"test\"}, {\"color\": \"gray\", \"source\": 1, \"target\": 2, \"title\": \"test\"}, {\"color\": \"gray\", \"source\": 1, \"target\": 3, \"title\": \"test\"}, {\"color\": \"gray\", \"source\": 1, \"target\": 29, \"title\": \"test\"}, {\"color\": \"gray\", \"source\": 1, \"target\": 14, \"title\": \"test\"}, {\"color\": \"gray\", \"source\": 2, \"target\": 3, \"title\": \"test\"}, {\"color\": \"gray\", \"source\": 2, \"target\": 22, \"title\": \"test\"}, {\"color\": \"gray\", \"source\": 3, \"target\": 4, \"title\": \"test\"}, {\"color\": \"gray\", \"source\": 3, \"target\": 5, \"title\": \"test\"}, {\"color\": \"gray\", \"source\": 4, \"target\": 27, \"title\": \"test\"}, {\"color\": \"gray\", \"source\": 4, \"target\": 5, \"title\": \"test\"}, {\"color\": \"gray\", \"source\": 4, \"target\": 6, \"title\": \"test\"}, {\"color\": \"gray\", \"source\": 5, \"target\": 27, \"title\": \"test\"}, {\"color\": \"gray\", \"source\": 5, \"target\": 6, \"title\": \"test\"}, {\"color\": \"gray\", \"source\": 5, \"target\": 7, \"title\": \"test\"}, {\"color\": \"gray\", \"source\": 6, \"target\": 25, \"title\": \"test\"}, {\"color\": \"gray\", \"source\": 6, \"target\": 7, \"title\": \"test\"}, {\"color\": \"gray\", \"source\": 7, \"target\": 8, \"title\": \"test\"}, {\"color\": \"gray\", \"source\": 7, \"target\": 9, \"title\": \"test\"}, {\"color\": \"gray\", \"source\": 8, \"target\": 24, \"title\": \"test\"}, {\"color\": \"gray\", \"source\": 8, \"target\": 10, \"title\": \"test\"}, {\"color\": \"gray\", \"source\": 9, \"target\": 10, \"title\": \"test\"}, {\"color\": \"gray\", \"source\": 9, \"target\": 11, \"title\": \"test\"}, {\"color\": \"gray\", \"source\": 10, \"target\": 11, \"title\": \"test\"}, {\"color\": \"gray\", \"source\": 10, \"target\": 12, \"title\": \"test\"}, {\"color\": \"gray\", \"source\": 10, \"target\": 17, \"title\": \"test\"}, {\"color\": \"gray\", \"source\": 11, \"target\": 12, \"title\": \"test\"}, {\"color\": \"gray\", \"source\": 11, \"target\": 13, \"title\": \"test\"}, {\"color\": \"gray\", \"source\": 12, \"target\": 13, \"title\": \"test\"}, {\"color\": \"gray\", \"source\": 12, \"target\": 14, \"title\": \"test\"}, {\"color\": \"gray\", \"source\": 13, \"target\": 14, \"title\": \"test\"}, {\"color\": \"gray\", \"source\": 13, \"target\": 15, \"title\": \"test\"}, {\"color\": \"gray\", \"source\": 14, \"target\": 26, \"title\": \"test\"}, {\"color\": \"gray\", \"source\": 15, \"target\": 16, \"title\": \"test\"}, {\"color\": \"gray\", \"source\": 15, \"target\": 17, \"title\": \"test\"}, {\"color\": \"gray\", \"source\": 16, \"target\": 17, \"title\": \"test\"}, {\"color\": \"gray\", \"source\": 16, \"target\": 18, \"title\": \"test\"}, {\"color\": \"gray\", \"source\": 17, \"target\": 19, \"title\": \"test\"}, {\"color\": \"gray\", \"source\": 18, \"target\": 19, \"title\": \"test\"}, {\"color\": \"gray\", \"source\": 18, \"target\": 20, \"title\": \"test\"}, {\"color\": \"gray\", \"source\": 19, \"target\": 20, \"title\": \"test\"}, {\"color\": \"gray\", \"source\": 19, \"target\": 21, \"title\": \"test\"}, {\"color\": \"gray\", \"source\": 20, \"target\": 28, \"title\": \"test\"}, {\"color\": \"gray\", \"source\": 20, \"target\": 22, \"title\": \"test\"}, {\"color\": \"gray\", \"source\": 21, \"target\": 22, \"title\": \"test\"}, {\"color\": \"gray\", \"source\": 21, \"target\": 23, \"title\": \"test\"}, {\"color\": \"gray\", \"source\": 22, \"target\": 24, \"title\": \"test\"}, {\"color\": \"gray\", \"source\": 22, \"target\": 23, \"title\": \"test\"}, {\"color\": \"gray\", \"source\": 23, \"target\": 24, \"title\": \"test\"}, {\"color\": \"gray\", \"source\": 23, \"target\": 25, \"title\": \"test\"}, {\"color\": \"gray\", \"source\": 24, \"target\": 25, \"title\": \"test\"}, {\"color\": \"gray\", \"source\": 24, \"target\": 26, \"title\": \"test\"}, {\"color\": \"gray\", \"source\": 25, \"target\": 26, \"title\": \"test\"}, {\"color\": \"gray\", \"source\": 25, \"target\": 27, \"title\": \"test\"}, {\"color\": \"gray\", \"source\": 26, \"target\": 27, \"title\": \"test\"}, {\"color\": \"gray\", \"source\": 26, \"target\": 28, \"title\": \"test\"}, {\"color\": \"gray\", \"source\": 28, \"target\": 29, \"title\": \"test\"}]);}</script><iframe name=\"style_file0\" src=\"style_file0.html\" height=\"1200px\" width=\"100%;\"></iframe></body></html>"
      ],
      "text/plain": [
       "<IPython.core.display.HTML object>"
      ]
     },
     "execution_count": 4,
     "metadata": {},
     "output_type": "execute_result"
    }
   ],
   "source": [
    "# map the betweenness centrality to the node color, using matplotlib spring_r colormap\n",
    "node_to_color = visJS2jupyter.visJS_module.return_node_to_color(G,field_to_map='betweenness_centrality',cmap=mpl.cm.spring_r,alpha = 1,\n",
    "                                                 color_max_frac = .9,color_min_frac = .1)\n",
    "\n",
    "# set node initial positions using networkx's spring_layout function\n",
    "pos = nx.spring_layout(G)\n",
    "\n",
    "nodes_dict = [{\"id\":n,\"color\":node_to_color[n],\n",
    "               \"degree\":nx.degree(G,n),\n",
    "              \"x\":pos[n][0]*1000,\n",
    "              \"y\":pos[n][1]*1000} for n in nodes\n",
    "              ]\n",
    "node_map = dict(zip(nodes,range(len(nodes))))  # map to indices for source/target in edges\n",
    "edges_dict = [{\"source\":node_map[edges[i][0]], \"target\":node_map[edges[i][1]], \n",
    "              \"color\":\"gray\",\"title\":'test'} for i in range(len(edges))]\n",
    "\n",
    "# set some network-wide styles\n",
    "visJS2jupyter.visJS_module.visjs_network(nodes_dict,edges_dict,\n",
    "                          node_size_multiplier=7,\n",
    "                          node_size_transform = '',\n",
    "                          node_color_highlight_border='red',\n",
    "                          node_color_highlight_background='#D3918B',\n",
    "                          node_color_hover_border='blue',\n",
    "                          node_color_hover_background='#8BADD3',\n",
    "                          node_font_size=25,\n",
    "                          edge_arrow_to=True,\n",
    "                          physics_enabled=True,\n",
    "                          edge_color_highlight='#8A324E',\n",
    "                          edge_color_hover='#8BADD3',\n",
    "                          edge_width=3,\n",
    "                          max_velocity=15,\n",
    "                          min_velocity=1)\n",
    "\n"
   ]
  },
  {
   "cell_type": "code",
   "execution_count": null,
   "metadata": {
    "collapsed": true
   },
   "outputs": [],
   "source": []
  }
 ],
 "metadata": {
  "kernelspec": {
   "display_name": "Python 2",
   "language": "python",
   "name": "python2"
  },
  "language_info": {
   "codemirror_mode": {
    "name": "ipython",
    "version": 2
   },
   "file_extension": ".py",
   "mimetype": "text/x-python",
   "name": "python",
   "nbconvert_exporter": "python",
   "pygments_lexer": "ipython2",
   "version": "2.7.11"
  }
 },
 "nbformat": 4,
 "nbformat_minor": 0
}
