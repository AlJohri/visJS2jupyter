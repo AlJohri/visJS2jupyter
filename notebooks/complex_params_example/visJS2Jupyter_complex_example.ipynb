{
 "cells": [
  {
   "cell_type": "markdown",
   "metadata": {},
   "source": [
    "# More complex network styling for visJS2jupyter\n",
    "\n",
    "------------\n",
    "\n",
    "Authors: Brin Rosenthal (sbrosenthal@ucsd.edu), Mikayla Webster (m1webste@ucsd.edu), Julia Len (jlen@ucsd.edu)\n",
    "\n",
    "-----------\n",
    "\n"
   ]
  },
  {
   "cell_type": "markdown",
   "metadata": {},
   "source": [
    "## Import packages"
   ]
  },
  {
   "cell_type": "code",
   "execution_count": 1,
   "metadata": {},
   "outputs": [
    {
     "data": {
      "text/plain": [
       "<module 'visJS2jupyter.visJS_module' from 'C:\\Users\\m1webste\\Anaconda2\\lib\\site-packages\\visJS2jupyter\\visJS_module.pyc'>"
      ]
     },
     "execution_count": 1,
     "metadata": {},
     "output_type": "execute_result"
    }
   ],
   "source": [
    "from random import randint\n",
    "import math\n",
    "import matplotlib as mpl\n",
    "import networkx as nx\n",
    "\n",
    "from visJS2jupyter import visJS_module\n",
    "reload(visJS_module)"
   ]
  },
  {
   "cell_type": "code",
   "execution_count": 2,
   "metadata": {
    "collapsed": true
   },
   "outputs": [],
   "source": [
    "# create a simple graph\n",
    "G = nx.connected_watts_strogatz_graph(30,5,.2)\n",
    "nodes = list(G.nodes()) # type cast to list in order to make compatible with networkx 1.11 and 2.0\n",
    "edges = list(G.edges()) # for nx 2.0, returns an \"EdgeView\" object rather than an iterable"
   ]
  },
  {
   "cell_type": "markdown",
   "metadata": {},
   "source": [
    "# Map node attributes to visual properties, and style the nodes and edges\n",
    "\n",
    "- To map node attributes to properties, simply add the property to the graph as a node-attribute, and use the return_node_to_color function"
   ]
  },
  {
   "cell_type": "code",
   "execution_count": 3,
   "metadata": {
    "collapsed": true
   },
   "outputs": [],
   "source": [
    "# add a node attributes to color-code by\n",
    "cc = nx.clustering(G)\n",
    "degree = dict(G.degree()) # nx 2.0 returns a \"DegreeView\" object. Cast to dict to maintain compatibility with nx 1.11\n",
    "bc = nx.betweenness_centrality(G)\n",
    "\n",
    "nx.set_node_attributes(G, name = 'clustering_coefficient', values = cc) # parameter order for name and values is switched \n",
    "nx.set_node_attributes(G, name = 'degree', values = degree)             # between networkx 1.11 and 2.0, therefore we must\n",
    "nx.set_node_attributes(G, name = 'betweenness_centrality', values = bc) # explicitly pass our arguments \n",
    "                                                                        # (not implicitly through position) "
   ]
  },
  {
   "cell_type": "code",
   "execution_count": 4,
   "metadata": {},
   "outputs": [],
   "source": [
    "# add edge attribute weight\n",
    "weights=[randint(0,9) for p in range(len(edges))]\n",
    "edge_to_weight = dict(zip(edges, weights))\n",
    "nx.set_edge_attributes(G, name = 'weight', values = edge_to_weight)"
   ]
  },
  {
   "cell_type": "code",
   "execution_count": 5,
   "metadata": {
    "collapsed": true
   },
   "outputs": [],
   "source": [
    "# setting shape of each node using a dictionary\n",
    "stars = ['star']*20 # some will be stars\n",
    "circles = ['dot']*10 # some will be circles\n",
    "shapes = stars + circles\n",
    "node_to_shape = dict(zip(nodes, shapes))"
   ]
  },
  {
   "cell_type": "markdown",
   "metadata": {},
   "source": [
    "<a id='interactive_network'></a>\n",
    "### Interactive network\n",
    "\n",
    "TIP: If you get errors running the following cell, try updating visJS2jupyter (pip install visJS2jupyter --upgrade). This cell is dependent on an update made on March 9th, 2018"
   ]
  },
  {
   "cell_type": "code",
   "execution_count": 6,
   "metadata": {},
   "outputs": [
    {
     "data": {
      "text/html": [
       "<!doctype html><html><head>  <title>Network | Basic usage</title></head><body><script type=\"text/javascript\">function setUpFrame() {     var frame = window.frames[\"style_file0\"];    frame.runVis([{\"node_shape\": \"star\", \"degree\": 3, \"title\": 0, \"color\": \"rgba(256, 212, 43, 1)\", \"y\": 379.5400210269967, \"x\": 0.0, \"border_width\": 0, \"id\": 0}, {\"node_shape\": \"star\", \"degree\": 5, \"title\": 1, \"color\": \"rgba(256, 0, 256, 1)\", \"y\": 251.4999373371941, \"x\": 72.39598356837234, \"border_width\": 0, \"id\": 1}, {\"node_shape\": \"star\", \"degree\": 4, \"title\": 2, \"color\": \"rgba(256, 169, 86, 1)\", \"y\": 350.76549672210894, \"x\": 74.43140104235239, \"border_width\": 0, \"id\": 2}, {\"node_shape\": \"star\", \"degree\": 5, \"title\": 3, \"color\": \"rgba(256, 0, 256, 1)\", \"y\": 129.7923353579869, \"x\": 397.6556921579775, \"border_width\": 0, \"id\": 3}, {\"node_shape\": \"star\", \"degree\": 4, \"title\": 4, \"color\": \"rgba(256, 141, 114, 1)\", \"y\": 249.4882576275484, \"x\": 226.8391398839744, \"border_width\": 0, \"id\": 4}, {\"node_shape\": \"star\", \"degree\": 6, \"title\": 5, \"color\": \"rgba(256, 0, 256, 1)\", \"y\": 190.04006016161722, \"x\": 353.3148923645805, \"border_width\": 0, \"id\": 5}, {\"node_shape\": \"star\", \"degree\": 4, \"title\": 6, \"color\": \"rgba(256, 85, 170, 1)\", \"y\": 338.03915230132515, \"x\": 462.9949823768221, \"border_width\": 0, \"id\": 6}, {\"node_shape\": \"star\", \"degree\": 4, \"title\": 7, \"color\": \"rgba(256, 61, 194, 1)\", \"y\": 374.9720581743865, \"x\": 419.0052059755577, \"border_width\": 0, \"id\": 7}, {\"node_shape\": \"star\", \"degree\": 6, \"title\": 8, \"color\": \"rgba(256, 0, 256, 1)\", \"y\": 476.72332789386513, \"x\": 432.0769901634531, \"border_width\": 0, \"id\": 8}, {\"node_shape\": \"star\", \"degree\": 5, \"title\": 9, \"color\": \"rgba(256, 0, 256, 1)\", \"y\": 455.2795770192199, \"x\": 496.3872379025264, \"border_width\": 0, \"id\": 9}, {\"node_shape\": \"star\", \"degree\": 4, \"title\": 10, \"color\": \"rgba(256, 0, 256, 1)\", \"y\": 440.8673602573748, \"x\": 261.69310499027966, \"border_width\": 0, \"id\": 10}, {\"node_shape\": \"star\", \"degree\": 3, \"title\": 11, \"color\": \"rgba(256, 182, 73, 1)\", \"y\": 624.6520161802629, \"x\": 392.44524668012986, \"border_width\": 0, \"id\": 11}, {\"node_shape\": \"star\", \"degree\": 4, \"title\": 12, \"color\": \"rgba(256, 125, 130, 1)\", \"y\": 632.5891676939365, \"x\": 321.17124281064304, \"border_width\": 0, \"id\": 12}, {\"node_shape\": \"star\", \"degree\": 4, \"title\": 13, \"color\": \"rgba(256, 206, 49, 1)\", \"y\": 696.9447392033929, \"x\": 371.0857645116867, \"border_width\": 0, \"id\": 13}, {\"node_shape\": \"star\", \"degree\": 4, \"title\": 14, \"color\": \"rgba(256, 172, 83, 1)\", \"y\": 700.0, \"x\": 446.30092734197706, \"border_width\": 0, \"id\": 14}, {\"node_shape\": \"star\", \"degree\": 4, \"title\": 15, \"color\": \"rgba(256, 146, 109, 1)\", \"y\": 639.1591828390517, \"x\": 475.7706439382771, \"border_width\": 0, \"id\": 15}, {\"node_shape\": \"star\", \"degree\": 4, \"title\": 16, \"color\": \"rgba(256, 0, 256, 1)\", \"y\": 584.5053610920211, \"x\": 522.7986961460759, \"border_width\": 0, \"id\": 16}, {\"node_shape\": \"star\", \"degree\": 2, \"title\": 17, \"color\": \"rgba(256, 200, 55, 1)\", \"y\": 201.01502014697624, \"x\": 42.23677892077653, \"border_width\": 0, \"id\": 17}, {\"node_shape\": \"star\", \"degree\": 4, \"title\": 18, \"color\": \"rgba(256, 0, 256, 1)\", \"y\": 106.00144797940077, \"x\": 24.288432723743757, \"border_width\": 0, \"id\": 18}, {\"node_shape\": \"star\", \"degree\": 3, \"title\": 19, \"color\": \"rgba(256, 124, 131, 1)\", \"y\": 95.40894258176465, \"x\": 201.91177517444135, \"border_width\": 0, \"id\": 19}, {\"node_shape\": \"dot\", \"degree\": 4, \"title\": 20, \"color\": \"rgba(256, 79, 176, 1)\", \"y\": 0.0, \"x\": 245.1883763600593, \"border_width\": 0, \"id\": 20}, {\"node_shape\": \"dot\", \"degree\": 4, \"title\": 21, \"color\": \"rgba(256, 93, 162, 1)\", \"y\": 65.86620671007874, \"x\": 328.70771439740435, \"border_width\": 0, \"id\": 21}, {\"node_shape\": \"dot\", \"degree\": 3, \"title\": 22, \"color\": \"rgba(256, 158, 97, 1)\", \"y\": 11.823106141186283, \"x\": 326.75915176923075, \"border_width\": 0, \"id\": 22}, {\"node_shape\": \"dot\", \"degree\": 4, \"title\": 23, \"color\": \"rgba(256, 154, 101, 1)\", \"y\": 12.427667800998725, \"x\": 446.61277254804116, \"border_width\": 0, \"id\": 23}, {\"node_shape\": \"dot\", \"degree\": 3, \"title\": 24, \"color\": \"rgba(256, 204, 51, 1)\", \"y\": 32.44542478984637, \"x\": 582.8835923600236, \"border_width\": 0, \"id\": 24}, {\"node_shape\": \"dot\", \"degree\": 4, \"title\": 25, \"color\": \"rgba(256, 89, 166, 1)\", \"y\": 66.10284973492246, \"x\": 528.8201769560965, \"border_width\": 0, \"id\": 25}, {\"node_shape\": \"dot\", \"degree\": 4, \"title\": 26, \"color\": \"rgba(256, 26, 229, 1)\", \"y\": 119.27391267214826, \"x\": 620.8126554640963, \"border_width\": 0, \"id\": 26}, {\"node_shape\": \"dot\", \"degree\": 3, \"title\": 27, \"color\": \"rgba(256, 111, 144, 1)\", \"y\": 252.37148615843103, \"x\": 648.7028356553953, \"border_width\": 0, \"id\": 27}, {\"node_shape\": \"dot\", \"degree\": 6, \"title\": 28, \"color\": \"rgba(256, 0, 256, 1)\", \"y\": 316.16360652893263, \"x\": 136.36441636352268, \"border_width\": 0, \"id\": 28}, {\"node_shape\": \"dot\", \"degree\": 3, \"title\": 29, \"color\": \"rgba(256, 106, 149, 1)\", \"y\": 316.549835893271, \"x\": 26.132548492303805, \"border_width\": 0, \"id\": 29}], [{\"color\": \"rgba(0, 76, 256, 1.0)\", \"source\": 0, \"target\": 1}, {\"color\": \"rgba(128, 0, 0, 1.0)\", \"source\": 0, \"target\": 2}, {\"color\": \"rgba(128, 0, 0, 1.0)\", \"source\": 0, \"target\": 29}, {\"color\": \"rgba(0, 76, 256, 1.0)\", \"source\": 1, \"target\": 18}, {\"color\": \"rgba(206, 256, 41, 1.0)\", \"source\": 1, \"target\": 2}, {\"color\": \"rgba(0, 76, 256, 1.0)\", \"source\": 1, \"target\": 3}, {\"color\": \"rgba(128, 0, 0, 1.0)\", \"source\": 1, \"target\": 29}, {\"color\": \"rgba(0, 0, 128, 1.0)\", \"source\": 2, \"target\": 3}, {\"color\": \"rgba(256, 104, 0, 1.0)\", \"source\": 2, \"target\": 4}, {\"color\": \"rgba(0, 76, 256, 1.0)\", \"source\": 3, \"target\": 4}, {\"color\": \"rgba(128, 0, 0, 1.0)\", \"source\": 3, \"target\": 5}, {\"color\": \"rgba(128, 0, 0, 1.0)\", \"source\": 3, \"target\": 25}, {\"color\": \"rgba(128, 0, 0, 1.0)\", \"source\": 4, \"target\": 5}, {\"color\": \"rgba(0, 0, 128, 1.0)\", \"source\": 4, \"target\": 6}, {\"color\": \"rgba(206, 256, 41, 1.0)\", \"source\": 5, \"target\": 6}, {\"color\": \"rgba(256, 104, 0, 1.0)\", \"source\": 5, \"target\": 7}, {\"color\": \"rgba(128, 0, 0, 1.0)\", \"source\": 5, \"target\": 21}, {\"color\": \"rgba(256, 104, 0, 1.0)\", \"source\": 5, \"target\": 22}, {\"color\": \"rgba(128, 0, 0, 1.0)\", \"source\": 6, \"target\": 8}, {\"color\": \"rgba(0, 0, 128, 1.0)\", \"source\": 6, \"target\": 7}, {\"color\": \"rgba(128, 0, 0, 1.0)\", \"source\": 7, \"target\": 8}, {\"color\": \"rgba(256, 104, 0, 1.0)\", \"source\": 7, \"target\": 9}, {\"color\": \"rgba(128, 0, 0, 1.0)\", \"source\": 8, \"target\": 9}, {\"color\": \"rgba(128, 0, 0, 1.0)\", \"source\": 8, \"target\": 10}, {\"color\": \"rgba(256, 104, 0, 1.0)\", \"source\": 8, \"target\": 15}, {\"color\": \"rgba(128, 0, 0, 1.0)\", \"source\": 8, \"target\": 16}, {\"color\": \"rgba(41, 256, 206, 1.0)\", \"source\": 9, \"target\": 27}, {\"color\": \"rgba(0, 76, 256, 1.0)\", \"source\": 9, \"target\": 10}, {\"color\": \"rgba(206, 256, 41, 1.0)\", \"source\": 9, \"target\": 11}, {\"color\": \"rgba(206, 256, 41, 1.0)\", \"source\": 10, \"target\": 12}, {\"color\": \"rgba(128, 0, 0, 1.0)\", \"source\": 10, \"target\": 28}, {\"color\": \"rgba(128, 0, 0, 1.0)\", \"source\": 11, \"target\": 12}, {\"color\": \"rgba(128, 0, 0, 1.0)\", \"source\": 11, \"target\": 13}, {\"color\": \"rgba(256, 104, 0, 1.0)\", \"source\": 12, \"target\": 13}, {\"color\": \"rgba(206, 256, 41, 1.0)\", \"source\": 12, \"target\": 14}, {\"color\": \"rgba(41, 256, 206, 1.0)\", \"source\": 13, \"target\": 14}, {\"color\": \"rgba(206, 256, 41, 1.0)\", \"source\": 13, \"target\": 15}, {\"color\": \"rgba(41, 256, 206, 1.0)\", \"source\": 14, \"target\": 16}, {\"color\": \"rgba(128, 0, 0, 1.0)\", \"source\": 14, \"target\": 15}, {\"color\": \"rgba(206, 256, 41, 1.0)\", \"source\": 15, \"target\": 16}, {\"color\": \"rgba(0, 0, 128, 1.0)\", \"source\": 16, \"target\": 18}, {\"color\": \"rgba(128, 0, 0, 1.0)\", \"source\": 17, \"target\": 18}, {\"color\": \"rgba(128, 0, 0, 1.0)\", \"source\": 17, \"target\": 28}, {\"color\": \"rgba(0, 76, 256, 1.0)\", \"source\": 18, \"target\": 20}, {\"color\": \"rgba(41, 256, 206, 1.0)\", \"source\": 19, \"target\": 28}, {\"color\": \"rgba(41, 256, 206, 1.0)\", \"source\": 19, \"target\": 20}, {\"color\": \"rgba(128, 0, 0, 1.0)\", \"source\": 19, \"target\": 21}, {\"color\": \"rgba(128, 0, 0, 1.0)\", \"source\": 20, \"target\": 21}, {\"color\": \"rgba(128, 0, 0, 1.0)\", \"source\": 20, \"target\": 22}, {\"color\": \"rgba(128, 0, 0, 1.0)\", \"source\": 21, \"target\": 23}, {\"color\": \"rgba(41, 256, 206, 1.0)\", \"source\": 22, \"target\": 23}, {\"color\": \"rgba(256, 104, 0, 1.0)\", \"source\": 23, \"target\": 24}, {\"color\": \"rgba(128, 0, 0, 1.0)\", \"source\": 23, \"target\": 25}, {\"color\": \"rgba(128, 0, 0, 1.0)\", \"source\": 24, \"target\": 25}, {\"color\": \"rgba(128, 0, 0, 1.0)\", \"source\": 24, \"target\": 26}, {\"color\": \"rgba(128, 0, 0, 1.0)\", \"source\": 25, \"target\": 26}, {\"color\": \"rgba(128, 0, 0, 1.0)\", \"source\": 26, \"target\": 27}, {\"color\": \"rgba(0, 0, 128, 1.0)\", \"source\": 26, \"target\": 28}, {\"color\": \"rgba(0, 0, 128, 1.0)\", \"source\": 27, \"target\": 28}, {\"color\": \"rgba(128, 0, 0, 1.0)\", \"source\": 28, \"target\": 29}]);}</script><iframe name=\"style_file0\" src=\"style_file0.html\" width=\"100%;\" height=\"805px\"></iframe></body></html>"
      ],
      "text/plain": [
       "<IPython.core.display.HTML object>"
      ]
     },
     "execution_count": 6,
     "metadata": {},
     "output_type": "execute_result"
    }
   ],
   "source": [
    "# map the betweenness centrality to the node color, using matplotlib spring_r colormap\n",
    "node_to_color = visJS_module.return_node_to_color(G,field_to_map='betweenness_centrality',cmap=mpl.cm.spring_r,alpha = 1,\n",
    "                                                 color_max_frac = .9,color_min_frac = .1, vmin = 0, vmax = 0.08)\n",
    "\n",
    "# set node initial positions using networkx's spring_layout function\n",
    "pos = nx.spring_layout(G)\n",
    "\n",
    "# per node attributes\n",
    "nodes_dict = [{\"id\":n,\n",
    "               \"color\":node_to_color[n],\n",
    "               \"degree\":nx.degree(G,n),\n",
    "               \"node_shape\": node_to_shape[n],\n",
    "               \"x\":pos[n][0]*700,\n",
    "               \"y\":pos[n][1]*700} for n in nodes\n",
    "              ]\n",
    "\n",
    "# map to indices for source/target in edges\n",
    "node_map = dict(zip(nodes,range(len(nodes)))) \n",
    "\n",
    "# map colors to edges based on degree\n",
    "edge_to_color = visJS_module.return_edge_to_color(G,field_to_map='weight',cmap=mpl.cm.jet,alpha = 1.0, color_vals_transform = None,ceil_val=10,\n",
    "                        vmin=0,vmax=5)\n",
    "\n",
    "# per edge attributes\n",
    "edges_dict = [{\"source\":node_map[edges[i][0]], \"target\":node_map[edges[i][1]], \n",
    "              \"color\":edge_to_color[edges[i]]} for i in range(len(edges))]\n",
    "\n",
    "# set some network-wide styles\n",
    "visJS_module.visjs_network(nodes_dict,edges_dict,\n",
    "                          node_size_multiplier=7,\n",
    "                          node_size_transform = '',\n",
    "                          node_color_highlight_border='red',\n",
    "                          node_color_highlight_background='#D3918B',\n",
    "                          node_color_hover_border='blue',\n",
    "                          node_color_hover_background='#8BADD3',\n",
    "                          node_font_size=25,\n",
    "                          edge_arrow_to=True,\n",
    "                          physics_enabled=True,\n",
    "                          edge_color_highlight='#8A324E',\n",
    "                          edge_color_hover='#8BADD3',\n",
    "                          edge_width=3,\n",
    "                          max_velocity=15,\n",
    "                          min_velocity=1)\n",
    "\n"
   ]
  },
  {
   "cell_type": "code",
   "execution_count": null,
   "metadata": {
    "collapsed": true
   },
   "outputs": [],
   "source": []
  }
 ],
 "metadata": {
  "kernelspec": {
   "display_name": "Python 2",
   "language": "python",
   "name": "python2"
  },
  "language_info": {
   "codemirror_mode": {
    "name": "ipython",
    "version": 2
   },
   "file_extension": ".py",
   "mimetype": "text/x-python",
   "name": "python",
   "nbconvert_exporter": "python",
   "pygments_lexer": "ipython2",
   "version": "2.7.14"
  }
 },
 "nbformat": 4,
 "nbformat_minor": 1
}
