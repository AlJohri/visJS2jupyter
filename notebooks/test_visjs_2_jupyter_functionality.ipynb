{
 "cells": [
  {
   "cell_type": "markdown",
   "metadata": {},
   "source": [
    "# Test the functionality of visJS_2_jupyter\n",
    "\n",
    "------------\n",
    "\n",
    "Authors: Brin Rosenthal (sbrosenthal@ucsd.edu), Mikayla Webster (m1webste@ucsd.edu)\n",
    "\n",
    "-----------\n"
   ]
  },
  {
   "cell_type": "markdown",
   "metadata": {},
   "source": [
    "## Import packages"
   ]
  },
  {
   "cell_type": "code",
   "execution_count": 43,
   "metadata": {
    "collapsed": false
   },
   "outputs": [
    {
     "data": {
      "text/plain": [
       "<module 'visJS_module' from '../src/visJS_module.py'>"
      ]
     },
     "execution_count": 43,
     "metadata": {},
     "output_type": "execute_result"
    }
   ],
   "source": [
    "import matplotlib as mpl\n",
    "import matplotlib.pyplot as plt\n",
    "\n",
    "import networkx as nx\n",
    "import numpy as np\n",
    "import pandas as pd\n",
    "\n",
    "import sys\n",
    "sys.path.append('../src/')\n",
    "import visJS_module\n",
    "\n",
    "import imp\n",
    "imp.reload(visJS_module)"
   ]
  },
  {
   "cell_type": "markdown",
   "metadata": {},
   "source": [
    "# Draw a simple network with default parameters"
   ]
  },
  {
   "cell_type": "code",
   "execution_count": 62,
   "metadata": {
    "collapsed": true
   },
   "outputs": [],
   "source": [
    "G = nx.connected_watts_strogatz_graph(30,5,.2)\n",
    "nodes = G.nodes()\n",
    "edges = G.edges()\n",
    "pos = nx.spring_layout(G)"
   ]
  },
  {
   "cell_type": "code",
   "execution_count": 63,
   "metadata": {
    "collapsed": false,
    "scrolled": false
   },
   "outputs": [
    {
     "data": {
      "text/html": [
       "<!doctype html><html><head>  <title>Network | Basic usage</title></head><body><script type=\"text/javascript\">function setUpFrame() {     var frame = window.frames[\"style_file0\"];    frame.runVis([{\"node_shape\": \"dot\", \"degree\": 3.0, \"title\": 0, \"color\": \"#8BA8D3\", \"border_width\": 0, \"id\": 0}, {\"node_shape\": \"dot\", \"degree\": 3.0, \"title\": 1, \"color\": \"#8BA8D3\", \"border_width\": 0, \"id\": 1}, {\"node_shape\": \"dot\", \"degree\": 3.0, \"title\": 2, \"color\": \"#8BA8D3\", \"border_width\": 0, \"id\": 2}, {\"node_shape\": \"dot\", \"degree\": 3.0, \"title\": 3, \"color\": \"#8BA8D3\", \"border_width\": 0, \"id\": 3}, {\"node_shape\": \"dot\", \"degree\": 3.0, \"title\": 4, \"color\": \"#8BA8D3\", \"border_width\": 0, \"id\": 4}, {\"node_shape\": \"dot\", \"degree\": 3.0, \"title\": 5, \"color\": \"#8BA8D3\", \"border_width\": 0, \"id\": 5}, {\"node_shape\": \"dot\", \"degree\": 3.0, \"title\": 6, \"color\": \"#8BA8D3\", \"border_width\": 0, \"id\": 6}, {\"node_shape\": \"dot\", \"degree\": 3.0, \"title\": 7, \"color\": \"#8BA8D3\", \"border_width\": 0, \"id\": 7}, {\"node_shape\": \"dot\", \"degree\": 3.0, \"title\": 8, \"color\": \"#8BA8D3\", \"border_width\": 0, \"id\": 8}, {\"node_shape\": \"dot\", \"degree\": 3.0, \"title\": 9, \"color\": \"#8BA8D3\", \"border_width\": 0, \"id\": 9}, {\"node_shape\": \"dot\", \"degree\": 3.0, \"title\": 10, \"color\": \"#8BA8D3\", \"border_width\": 0, \"id\": 10}, {\"node_shape\": \"dot\", \"degree\": 3.0, \"title\": 11, \"color\": \"#8BA8D3\", \"border_width\": 0, \"id\": 11}, {\"node_shape\": \"dot\", \"degree\": 3.0, \"title\": 12, \"color\": \"#8BA8D3\", \"border_width\": 0, \"id\": 12}, {\"node_shape\": \"dot\", \"degree\": 3.0, \"title\": 13, \"color\": \"#8BA8D3\", \"border_width\": 0, \"id\": 13}, {\"node_shape\": \"dot\", \"degree\": 3.0, \"title\": 14, \"color\": \"#8BA8D3\", \"border_width\": 0, \"id\": 14}, {\"node_shape\": \"dot\", \"degree\": 3.0, \"title\": 15, \"color\": \"#8BA8D3\", \"border_width\": 0, \"id\": 15}, {\"node_shape\": \"dot\", \"degree\": 3.0, \"title\": 16, \"color\": \"#8BA8D3\", \"border_width\": 0, \"id\": 16}, {\"node_shape\": \"dot\", \"degree\": 3.0, \"title\": 17, \"color\": \"#8BA8D3\", \"border_width\": 0, \"id\": 17}, {\"node_shape\": \"dot\", \"degree\": 3.0, \"title\": 18, \"color\": \"#8BA8D3\", \"border_width\": 0, \"id\": 18}, {\"node_shape\": \"dot\", \"degree\": 3.0, \"title\": 19, \"color\": \"#8BA8D3\", \"border_width\": 0, \"id\": 19}, {\"node_shape\": \"dot\", \"degree\": 3.0, \"title\": 20, \"color\": \"#8BA8D3\", \"border_width\": 0, \"id\": 20}, {\"node_shape\": \"dot\", \"degree\": 3.0, \"title\": 21, \"color\": \"#8BA8D3\", \"border_width\": 0, \"id\": 21}, {\"node_shape\": \"dot\", \"degree\": 3.0, \"title\": 22, \"color\": \"#8BA8D3\", \"border_width\": 0, \"id\": 22}, {\"node_shape\": \"dot\", \"degree\": 3.0, \"title\": 23, \"color\": \"#8BA8D3\", \"border_width\": 0, \"id\": 23}, {\"node_shape\": \"dot\", \"degree\": 3.0, \"title\": 24, \"color\": \"#8BA8D3\", \"border_width\": 0, \"id\": 24}, {\"node_shape\": \"dot\", \"degree\": 3.0, \"title\": 25, \"color\": \"#8BA8D3\", \"border_width\": 0, \"id\": 25}, {\"node_shape\": \"dot\", \"degree\": 3.0, \"title\": 26, \"color\": \"#8BA8D3\", \"border_width\": 0, \"id\": 26}, {\"node_shape\": \"dot\", \"degree\": 3.0, \"title\": 27, \"color\": \"#8BA8D3\", \"border_width\": 0, \"id\": 27}, {\"node_shape\": \"dot\", \"degree\": 3.0, \"title\": 28, \"color\": \"#8BA8D3\", \"border_width\": 0, \"id\": 28}, {\"node_shape\": \"dot\", \"degree\": 3.0, \"title\": 29, \"color\": \"#8BA8D3\", \"border_width\": 0, \"id\": 29}], [{\"source\": 0, \"target\": 1, \"title\": \"test\"}, {\"source\": 0, \"target\": 2, \"title\": \"test\"}, {\"source\": 0, \"target\": 28, \"title\": \"test\"}, {\"source\": 0, \"target\": 29, \"title\": \"test\"}, {\"source\": 1, \"target\": 2, \"title\": \"test\"}, {\"source\": 1, \"target\": 7, \"title\": \"test\"}, {\"source\": 2, \"target\": 3, \"title\": \"test\"}, {\"source\": 2, \"target\": 4, \"title\": \"test\"}, {\"source\": 3, \"target\": 4, \"title\": \"test\"}, {\"source\": 3, \"target\": 29, \"title\": \"test\"}, {\"source\": 4, \"target\": 6, \"title\": \"test\"}, {\"source\": 4, \"target\": 23, \"title\": \"test\"}, {\"source\": 5, \"target\": 25, \"title\": \"test\"}, {\"source\": 5, \"target\": 6, \"title\": \"test\"}, {\"source\": 5, \"target\": 7, \"title\": \"test\"}, {\"source\": 6, \"target\": 8, \"title\": \"test\"}, {\"source\": 6, \"target\": 29, \"title\": \"test\"}, {\"source\": 6, \"target\": 21, \"title\": \"test\"}, {\"source\": 7, \"target\": 8, \"title\": \"test\"}, {\"source\": 7, \"target\": 9, \"title\": \"test\"}, {\"source\": 8, \"target\": 10, \"title\": \"test\"}, {\"source\": 8, \"target\": 15, \"title\": \"test\"}, {\"source\": 8, \"target\": 22, \"title\": \"test\"}, {\"source\": 9, \"target\": 10, \"title\": \"test\"}, {\"source\": 9, \"target\": 11, \"title\": \"test\"}, {\"source\": 10, \"target\": 11, \"title\": \"test\"}, {\"source\": 10, \"target\": 12, \"title\": \"test\"}, {\"source\": 11, \"target\": 12, \"title\": \"test\"}, {\"source\": 11, \"target\": 13, \"title\": \"test\"}, {\"source\": 12, \"target\": 13, \"title\": \"test\"}, {\"source\": 12, \"target\": 14, \"title\": \"test\"}, {\"source\": 13, \"target\": 20, \"title\": \"test\"}, {\"source\": 13, \"target\": 14, \"title\": \"test\"}, {\"source\": 13, \"target\": 15, \"title\": \"test\"}, {\"source\": 14, \"target\": 16, \"title\": \"test\"}, {\"source\": 14, \"target\": 17, \"title\": \"test\"}, {\"source\": 14, \"target\": 15, \"title\": \"test\"}, {\"source\": 15, \"target\": 16, \"title\": \"test\"}, {\"source\": 16, \"target\": 17, \"title\": \"test\"}, {\"source\": 16, \"target\": 18, \"title\": \"test\"}, {\"source\": 17, \"target\": 26, \"title\": \"test\"}, {\"source\": 17, \"target\": 19, \"title\": \"test\"}, {\"source\": 18, \"target\": 19, \"title\": \"test\"}, {\"source\": 18, \"target\": 20, \"title\": \"test\"}, {\"source\": 19, \"target\": 20, \"title\": \"test\"}, {\"source\": 19, \"target\": 21, \"title\": \"test\"}, {\"source\": 20, \"target\": 29, \"title\": \"test\"}, {\"source\": 21, \"target\": 22, \"title\": \"test\"}, {\"source\": 21, \"target\": 23, \"title\": \"test\"}, {\"source\": 22, \"target\": 24, \"title\": \"test\"}, {\"source\": 22, \"target\": 23, \"title\": \"test\"}, {\"source\": 23, \"target\": 24, \"title\": \"test\"}, {\"source\": 23, \"target\": 25, \"title\": \"test\"}, {\"source\": 24, \"target\": 25, \"title\": \"test\"}, {\"source\": 24, \"target\": 26, \"title\": \"test\"}, {\"source\": 25, \"target\": 26, \"title\": \"test\"}, {\"source\": 26, \"target\": 27, \"title\": \"test\"}, {\"source\": 27, \"target\": 28, \"title\": \"test\"}, {\"source\": 27, \"target\": 29, \"title\": \"test\"}, {\"source\": 28, \"target\": 29, \"title\": \"test\"}]);}</script><iframe name=\"style_file0\" src=\"style_file0.html\" height=\"1200px\" width=\"100%;\"></iframe></body></html>"
      ],
      "text/plain": [
       "<IPython.core.display.HTML object>"
      ]
     },
     "execution_count": 63,
     "metadata": {},
     "output_type": "execute_result"
    }
   ],
   "source": [
    "nodes_dict = [{\"id\":n} for n in nodes]\n",
    "node_map = dict(zip(nodes,range(len(nodes))))  # map to indices for source/target in edges\n",
    "\n",
    "edges_dict = [{\"source\":node_map[edges[i][0]], \"target\":node_map[edges[i][1]], \n",
    "              \"title\":'test'} for i in range(len(edges))]\n",
    "\n",
    "visJS_module.visjs_network(nodes_dict,edges_dict,time_stamp=0)"
   ]
  },
  {
   "cell_type": "markdown",
   "metadata": {},
   "source": [
    "# Map node attributes to visual properties, and style the nodes and edges\n",
    "\n",
    "- To map node attributes to properties, simply add the property to the graph as a node-attribute, and use the return_node_to_color function"
   ]
  },
  {
   "cell_type": "code",
   "execution_count": 65,
   "metadata": {
    "collapsed": true
   },
   "outputs": [],
   "source": [
    "# add a node attributes to color-code by\n",
    "cc = nx.clustering(G)\n",
    "degree = G.degree()\n",
    "bc = nx.betweenness_centrality(G)\n",
    "nx.set_node_attributes(G,'clustering_coefficient',cc)\n",
    "nx.set_node_attributes(G,'degree',degree)\n",
    "nx.set_node_attributes(G,'betweenness_centrality',bc)\n",
    "\n",
    "\n",
    "    "
   ]
  },
  {
   "cell_type": "code",
   "execution_count": 67,
   "metadata": {
    "collapsed": false
   },
   "outputs": [
    {
     "data": {
      "text/html": [
       "<!doctype html><html><head>  <title>Network | Basic usage</title></head><body><script type=\"text/javascript\">function setUpFrame() {     var frame = window.frames[\"style_file1\"];    frame.runVis([{\"node_shape\": \"dot\", \"degree\": 4, \"title\": 0, \"color\": \"rgba(256, 184, 71, 1)\", \"y\": 435.59245764589366, \"x\": -678.73407245272278, \"border_width\": 0, \"id\": 0}, {\"node_shape\": \"dot\", \"degree\": 3, \"title\": 1, \"color\": \"rgba(256, 184, 71, 1)\", \"y\": 68.417695495535796, \"x\": -514.58574082342273, \"border_width\": 0, \"id\": 1}, {\"node_shape\": \"dot\", \"degree\": 4, \"title\": 2, \"color\": \"rgba(256, 203, 52, 1)\", \"y\": 192.99470224868637, \"x\": -889.79165440295367, \"border_width\": 0, \"id\": 2}, {\"node_shape\": \"dot\", \"degree\": 3, \"title\": 3, \"color\": \"rgba(256, 212, 43, 1)\", \"y\": 309.27314588251795, \"x\": -776.17315078195554, \"border_width\": 0, \"id\": 3}, {\"node_shape\": \"dot\", \"degree\": 4, \"title\": 4, \"color\": \"rgba(256, 170, 85, 1)\", \"y\": -46.284045530815078, \"x\": -717.99477214377771, \"border_width\": 0, \"id\": 4}, {\"node_shape\": \"dot\", \"degree\": 3, \"title\": 5, \"color\": \"rgba(256, 184, 71, 1)\", \"y\": -509.32590178893776, \"x\": -111.65499500300159, \"border_width\": 0, \"id\": 5}, {\"node_shape\": \"dot\", \"degree\": 5, \"title\": 6, \"color\": \"rgba(256, 78, 177, 1)\", \"y\": -54.046778165493997, \"x\": -230.50745359741703, \"border_width\": 0, \"id\": 6}, {\"node_shape\": \"dot\", \"degree\": 4, \"title\": 7, \"color\": \"rgba(256, 121, 134, 1)\", \"y\": -273.39067231908018, \"x\": 34.193780033867526, \"border_width\": 0, \"id\": 7}, {\"node_shape\": \"dot\", \"degree\": 5, \"title\": 8, \"color\": \"rgba(256, 27, 228, 1)\", \"y\": -249.72809939446603, \"x\": 239.10752250727717, \"border_width\": 0, \"id\": 8}, {\"node_shape\": \"dot\", \"degree\": 3, \"title\": 9, \"color\": \"rgba(256, 200, 55, 1)\", \"y\": -403.734001349349, \"x\": 561.50888373890689, \"border_width\": 0, \"id\": 9}, {\"node_shape\": \"dot\", \"degree\": 4, \"title\": 10, \"color\": \"rgba(256, 177, 78, 1)\", \"y\": -307.80413833766698, \"x\": 741.58958339037906, \"border_width\": 0, \"id\": 10}, {\"node_shape\": \"dot\", \"degree\": 4, \"title\": 11, \"color\": \"rgba(256, 201, 54, 1)\", \"y\": -203.23899335231138, \"x\": 920.65521957030683, \"border_width\": 0, \"id\": 11}, {\"node_shape\": \"dot\", \"degree\": 4, \"title\": 12, \"color\": \"rgba(256, 208, 47, 1)\", \"y\": -27.792777785854039, \"x\": 1000.0, \"border_width\": 0, \"id\": 12}, {\"node_shape\": \"dot\", \"degree\": 5, \"title\": 13, \"color\": \"rgba(256, 139, 116, 1)\", \"y\": 207.27403660824447, \"x\": 792.08966241986036, \"border_width\": 0, \"id\": 13}, {\"node_shape\": \"dot\", \"degree\": 5, \"title\": 14, \"color\": \"rgba(256, 177, 78, 1)\", \"y\": 133.63844292434788, \"x\": 729.09095802822208, \"border_width\": 0, \"id\": 14}, {\"node_shape\": \"dot\", \"degree\": 4, \"title\": 15, \"color\": \"rgba(256, 159, 96, 1)\", \"y\": 34.178418006622948, \"x\": 594.66969768598801, \"border_width\": 0, \"id\": 15}, {\"node_shape\": \"dot\", \"degree\": 4, \"title\": 16, \"color\": \"rgba(256, 205, 50, 1)\", \"y\": 343.42954064480119, \"x\": 584.12755374258973, \"border_width\": 0, \"id\": 16}, {\"node_shape\": \"dot\", \"degree\": 4, \"title\": 17, \"color\": \"rgba(256, 150, 105, 1)\", \"y\": 102.04760561616494, \"x\": 307.75354960255277, \"border_width\": 0, \"id\": 17}, {\"node_shape\": \"dot\", \"degree\": 3, \"title\": 18, \"color\": \"rgba(256, 213, 42, 1)\", \"y\": 589.29681862889129, \"x\": 386.84986274748263, \"border_width\": 0, \"id\": 18}, {\"node_shape\": \"dot\", \"degree\": 4, \"title\": 19, \"color\": \"rgba(256, 168, 87, 1)\", \"y\": 276.80985369072556, \"x\": 90.124938154568227, \"border_width\": 0, \"id\": 19}, {\"node_shape\": \"dot\", \"degree\": 4, \"title\": 20, \"color\": \"rgba(256, 87, 168, 1)\", \"y\": 447.21702586643539, \"x\": 253.70341454469349, \"border_width\": 0, \"id\": 20}, {\"node_shape\": \"dot\", \"degree\": 4, \"title\": 21, \"color\": \"rgba(256, 169, 86, 1)\", \"y\": -131.43515633293362, \"x\": -298.45670064638222, \"border_width\": 0, \"id\": 21}, {\"node_shape\": \"dot\", \"degree\": 4, \"title\": 22, \"color\": \"rgba(256, 171, 84, 1)\", \"y\": -431.91289331007562, \"x\": -234.90011426713423, \"border_width\": 0, \"id\": 22}, {\"node_shape\": \"dot\", \"degree\": 5, \"title\": 23, \"color\": \"rgba(256, 175, 80, 1)\", \"y\": -394.7784277712538, \"x\": -552.01916494889144, \"border_width\": 0, \"id\": 23}, {\"node_shape\": \"dot\", \"degree\": 4, \"title\": 24, \"color\": \"rgba(256, 206, 49, 1)\", \"y\": -562.0501642422962, \"x\": -461.12996354255915, \"border_width\": 0, \"id\": 24}, {\"node_shape\": \"dot\", \"degree\": 4, \"title\": 25, \"color\": \"rgba(256, 191, 64, 1)\", \"y\": -622.95739083362866, \"x\": -340.33353986789604, \"border_width\": 0, \"id\": 25}, {\"node_shape\": \"dot\", \"degree\": 4, \"title\": 26, \"color\": \"rgba(256, 134, 121, 1)\", \"y\": -215.88705135084882, \"x\": -180.53119123406699, \"border_width\": 0, \"id\": 26}, {\"node_shape\": \"dot\", \"degree\": 3, \"title\": 27, \"color\": \"rgba(256, 187, 68, 1)\", \"y\": 264.37173406467525, \"x\": -380.05292466610592, \"border_width\": 0, \"id\": 27}, {\"node_shape\": \"dot\", \"degree\": 3, \"title\": 28, \"color\": \"rgba(256, 219, 36, 1)\", \"y\": 618.61403812716514, \"x\": -533.03202274152284, \"border_width\": 0, \"id\": 28}, {\"node_shape\": \"dot\", \"degree\": 6, \"title\": 29, \"color\": \"rgba(256, 25, 230, 1)\", \"y\": 411.21097641430271, \"x\": -335.56716504688387, \"border_width\": 0, \"id\": 29}], [{\"color\": \"gray\", \"source\": 0, \"target\": 1, \"title\": \"test\"}, {\"color\": \"gray\", \"source\": 0, \"target\": 2, \"title\": \"test\"}, {\"color\": \"gray\", \"source\": 0, \"target\": 28, \"title\": \"test\"}, {\"color\": \"gray\", \"source\": 0, \"target\": 29, \"title\": \"test\"}, {\"color\": \"gray\", \"source\": 1, \"target\": 2, \"title\": \"test\"}, {\"color\": \"gray\", \"source\": 1, \"target\": 7, \"title\": \"test\"}, {\"color\": \"gray\", \"source\": 2, \"target\": 3, \"title\": \"test\"}, {\"color\": \"gray\", \"source\": 2, \"target\": 4, \"title\": \"test\"}, {\"color\": \"gray\", \"source\": 3, \"target\": 4, \"title\": \"test\"}, {\"color\": \"gray\", \"source\": 3, \"target\": 29, \"title\": \"test\"}, {\"color\": \"gray\", \"source\": 4, \"target\": 6, \"title\": \"test\"}, {\"color\": \"gray\", \"source\": 4, \"target\": 23, \"title\": \"test\"}, {\"color\": \"gray\", \"source\": 5, \"target\": 25, \"title\": \"test\"}, {\"color\": \"gray\", \"source\": 5, \"target\": 6, \"title\": \"test\"}, {\"color\": \"gray\", \"source\": 5, \"target\": 7, \"title\": \"test\"}, {\"color\": \"gray\", \"source\": 6, \"target\": 8, \"title\": \"test\"}, {\"color\": \"gray\", \"source\": 6, \"target\": 29, \"title\": \"test\"}, {\"color\": \"gray\", \"source\": 6, \"target\": 21, \"title\": \"test\"}, {\"color\": \"gray\", \"source\": 7, \"target\": 8, \"title\": \"test\"}, {\"color\": \"gray\", \"source\": 7, \"target\": 9, \"title\": \"test\"}, {\"color\": \"gray\", \"source\": 8, \"target\": 10, \"title\": \"test\"}, {\"color\": \"gray\", \"source\": 8, \"target\": 15, \"title\": \"test\"}, {\"color\": \"gray\", \"source\": 8, \"target\": 22, \"title\": \"test\"}, {\"color\": \"gray\", \"source\": 9, \"target\": 10, \"title\": \"test\"}, {\"color\": \"gray\", \"source\": 9, \"target\": 11, \"title\": \"test\"}, {\"color\": \"gray\", \"source\": 10, \"target\": 11, \"title\": \"test\"}, {\"color\": \"gray\", \"source\": 10, \"target\": 12, \"title\": \"test\"}, {\"color\": \"gray\", \"source\": 11, \"target\": 12, \"title\": \"test\"}, {\"color\": \"gray\", \"source\": 11, \"target\": 13, \"title\": \"test\"}, {\"color\": \"gray\", \"source\": 12, \"target\": 13, \"title\": \"test\"}, {\"color\": \"gray\", \"source\": 12, \"target\": 14, \"title\": \"test\"}, {\"color\": \"gray\", \"source\": 13, \"target\": 20, \"title\": \"test\"}, {\"color\": \"gray\", \"source\": 13, \"target\": 14, \"title\": \"test\"}, {\"color\": \"gray\", \"source\": 13, \"target\": 15, \"title\": \"test\"}, {\"color\": \"gray\", \"source\": 14, \"target\": 16, \"title\": \"test\"}, {\"color\": \"gray\", \"source\": 14, \"target\": 17, \"title\": \"test\"}, {\"color\": \"gray\", \"source\": 14, \"target\": 15, \"title\": \"test\"}, {\"color\": \"gray\", \"source\": 15, \"target\": 16, \"title\": \"test\"}, {\"color\": \"gray\", \"source\": 16, \"target\": 17, \"title\": \"test\"}, {\"color\": \"gray\", \"source\": 16, \"target\": 18, \"title\": \"test\"}, {\"color\": \"gray\", \"source\": 17, \"target\": 26, \"title\": \"test\"}, {\"color\": \"gray\", \"source\": 17, \"target\": 19, \"title\": \"test\"}, {\"color\": \"gray\", \"source\": 18, \"target\": 19, \"title\": \"test\"}, {\"color\": \"gray\", \"source\": 18, \"target\": 20, \"title\": \"test\"}, {\"color\": \"gray\", \"source\": 19, \"target\": 20, \"title\": \"test\"}, {\"color\": \"gray\", \"source\": 19, \"target\": 21, \"title\": \"test\"}, {\"color\": \"gray\", \"source\": 20, \"target\": 29, \"title\": \"test\"}, {\"color\": \"gray\", \"source\": 21, \"target\": 22, \"title\": \"test\"}, {\"color\": \"gray\", \"source\": 21, \"target\": 23, \"title\": \"test\"}, {\"color\": \"gray\", \"source\": 22, \"target\": 24, \"title\": \"test\"}, {\"color\": \"gray\", \"source\": 22, \"target\": 23, \"title\": \"test\"}, {\"color\": \"gray\", \"source\": 23, \"target\": 24, \"title\": \"test\"}, {\"color\": \"gray\", \"source\": 23, \"target\": 25, \"title\": \"test\"}, {\"color\": \"gray\", \"source\": 24, \"target\": 25, \"title\": \"test\"}, {\"color\": \"gray\", \"source\": 24, \"target\": 26, \"title\": \"test\"}, {\"color\": \"gray\", \"source\": 25, \"target\": 26, \"title\": \"test\"}, {\"color\": \"gray\", \"source\": 26, \"target\": 27, \"title\": \"test\"}, {\"color\": \"gray\", \"source\": 27, \"target\": 28, \"title\": \"test\"}, {\"color\": \"gray\", \"source\": 27, \"target\": 29, \"title\": \"test\"}, {\"color\": \"gray\", \"source\": 28, \"target\": 29, \"title\": \"test\"}]);}</script><iframe name=\"style_file1\" src=\"style_file1.html\" height=\"1200px\" width=\"100%;\"></iframe></body></html>"
      ],
      "text/plain": [
       "<IPython.core.display.HTML object>"
      ]
     },
     "execution_count": 67,
     "metadata": {},
     "output_type": "execute_result"
    }
   ],
   "source": [
    "node_to_color = visJS_module.return_node_to_color(G,field_to_map='betweenness_centrality',cmap=mpl.cm.spring_r,alpha = 1,\n",
    "                                                 color_max_frac = .9,color_min_frac = .1)\n",
    "\n",
    "nodes_dict = [{\"id\":n,\"color\":node_to_color[n],\n",
    "               \"degree\":nx.degree(G,n),\n",
    "              \"x\":pos[n][0]*1000,\n",
    "              \"y\":pos[n][1]*1000} for n in nodes\n",
    "              ]\n",
    "node_map = dict(zip(nodes,range(len(nodes))))  # map to indices for source/target in edges\n",
    "edges_dict = [{\"source\":node_map[edges[i][0]], \"target\":node_map[edges[i][1]], \n",
    "              \"color\":\"gray\",\"title\":'test'} for i in range(len(edges))]\n",
    "\n",
    "visJS_module.visjs_network(nodes_dict,edges_dict,time_stamp=1,\n",
    "                          node_size_multiplier=5,\n",
    "                          node_size_transform = '',\n",
    "                          node_color_highlight_border='red',\n",
    "                          node_color_highlight_background='#D3918B',\n",
    "                          node_color_hover_border='blue',\n",
    "                          node_color_hover_background='#8BADD3',\n",
    "                          node_font_size=25,\n",
    "                          edge_arrow_to=True,\n",
    "                          edge_color_highlight='#8A324E',\n",
    "                          edge_color_hover='#8BADD3',\n",
    "                          edge_width=3,\n",
    "                          max_velocity=15)\n",
    "\n"
   ]
  },
  {
   "cell_type": "code",
   "execution_count": null,
   "metadata": {
    "collapsed": true
   },
   "outputs": [],
   "source": []
  }
 ],
 "metadata": {
  "kernelspec": {
   "display_name": "Python 2",
   "language": "python",
   "name": "python2"
  },
  "language_info": {
   "codemirror_mode": {
    "name": "ipython",
    "version": 2
   },
   "file_extension": ".py",
   "mimetype": "text/x-python",
   "name": "python",
   "nbconvert_exporter": "python",
   "pygments_lexer": "ipython2",
   "version": "2.7.11"
  }
 },
 "nbformat": 4,
 "nbformat_minor": 0
}
