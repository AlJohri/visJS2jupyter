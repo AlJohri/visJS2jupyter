{
 "cells": [
  {
   "cell_type": "markdown",
   "metadata": {},
   "source": [
    "# Test the functionality of visJS_2_jupyter\n",
    "\n",
    "------------\n",
    "\n",
    "Authors: Brin Rosenthal (sbrosenthal@ucsd.edu), Mikayla Webster (m1webste@ucsd.edu)\n",
    "\n",
    "-----------\n"
   ]
  },
  {
   "cell_type": "markdown",
   "metadata": {},
   "source": [
    "## Import packages"
   ]
  },
  {
   "cell_type": "code",
   "execution_count": 4,
   "metadata": {
    "collapsed": false
   },
   "outputs": [
    {
     "data": {
      "text/plain": [
       "<module 'visJS_module' from '../visJS2jupyter/visJS_module.pyc'>"
      ]
     },
     "execution_count": 4,
     "metadata": {},
     "output_type": "execute_result"
    }
   ],
   "source": [
    "import matplotlib as mpl\n",
    "import matplotlib.pyplot as plt\n",
    "\n",
    "import networkx as nx\n",
    "import numpy as np\n",
    "import pandas as pd\n",
    "\n",
    "import sys\n",
    "sys.path.append('../visJS2jupyter/')\n",
    "import visJS_module\n",
    "\n",
    "import imp\n",
    "imp.reload(visJS_module)"
   ]
  },
  {
   "cell_type": "markdown",
   "metadata": {},
   "source": [
    "# Draw a simple network with default parameters"
   ]
  },
  {
   "cell_type": "code",
   "execution_count": 5,
   "metadata": {
    "collapsed": true
   },
   "outputs": [],
   "source": [
    "G = nx.connected_watts_strogatz_graph(30,5,.2)\n",
    "nodes = G.nodes()\n",
    "edges = G.edges()\n",
    "pos = nx.spring_layout(G)"
   ]
  },
  {
   "cell_type": "code",
   "execution_count": 6,
   "metadata": {
    "collapsed": false,
    "scrolled": false
   },
   "outputs": [
    {
     "data": {
      "text/html": [
       "<!doctype html><html><head>  <title>Network | Basic usage</title></head><body><script type=\"text/javascript\">function setUpFrame() {     var frame = window.frames[\"style_file0\"];    frame.runVis([{\"node_shape\": \"dot\", \"degree\": 3.0, \"title\": 0, \"color\": \"#8BA8D3\", \"border_width\": 0, \"id\": 0}, {\"node_shape\": \"dot\", \"degree\": 3.0, \"title\": 1, \"color\": \"#8BA8D3\", \"border_width\": 0, \"id\": 1}, {\"node_shape\": \"dot\", \"degree\": 3.0, \"title\": 2, \"color\": \"#8BA8D3\", \"border_width\": 0, \"id\": 2}, {\"node_shape\": \"dot\", \"degree\": 3.0, \"title\": 3, \"color\": \"#8BA8D3\", \"border_width\": 0, \"id\": 3}, {\"node_shape\": \"dot\", \"degree\": 3.0, \"title\": 4, \"color\": \"#8BA8D3\", \"border_width\": 0, \"id\": 4}, {\"node_shape\": \"dot\", \"degree\": 3.0, \"title\": 5, \"color\": \"#8BA8D3\", \"border_width\": 0, \"id\": 5}, {\"node_shape\": \"dot\", \"degree\": 3.0, \"title\": 6, \"color\": \"#8BA8D3\", \"border_width\": 0, \"id\": 6}, {\"node_shape\": \"dot\", \"degree\": 3.0, \"title\": 7, \"color\": \"#8BA8D3\", \"border_width\": 0, \"id\": 7}, {\"node_shape\": \"dot\", \"degree\": 3.0, \"title\": 8, \"color\": \"#8BA8D3\", \"border_width\": 0, \"id\": 8}, {\"node_shape\": \"dot\", \"degree\": 3.0, \"title\": 9, \"color\": \"#8BA8D3\", \"border_width\": 0, \"id\": 9}, {\"node_shape\": \"dot\", \"degree\": 3.0, \"title\": 10, \"color\": \"#8BA8D3\", \"border_width\": 0, \"id\": 10}, {\"node_shape\": \"dot\", \"degree\": 3.0, \"title\": 11, \"color\": \"#8BA8D3\", \"border_width\": 0, \"id\": 11}, {\"node_shape\": \"dot\", \"degree\": 3.0, \"title\": 12, \"color\": \"#8BA8D3\", \"border_width\": 0, \"id\": 12}, {\"node_shape\": \"dot\", \"degree\": 3.0, \"title\": 13, \"color\": \"#8BA8D3\", \"border_width\": 0, \"id\": 13}, {\"node_shape\": \"dot\", \"degree\": 3.0, \"title\": 14, \"color\": \"#8BA8D3\", \"border_width\": 0, \"id\": 14}, {\"node_shape\": \"dot\", \"degree\": 3.0, \"title\": 15, \"color\": \"#8BA8D3\", \"border_width\": 0, \"id\": 15}, {\"node_shape\": \"dot\", \"degree\": 3.0, \"title\": 16, \"color\": \"#8BA8D3\", \"border_width\": 0, \"id\": 16}, {\"node_shape\": \"dot\", \"degree\": 3.0, \"title\": 17, \"color\": \"#8BA8D3\", \"border_width\": 0, \"id\": 17}, {\"node_shape\": \"dot\", \"degree\": 3.0, \"title\": 18, \"color\": \"#8BA8D3\", \"border_width\": 0, \"id\": 18}, {\"node_shape\": \"dot\", \"degree\": 3.0, \"title\": 19, \"color\": \"#8BA8D3\", \"border_width\": 0, \"id\": 19}, {\"node_shape\": \"dot\", \"degree\": 3.0, \"title\": 20, \"color\": \"#8BA8D3\", \"border_width\": 0, \"id\": 20}, {\"node_shape\": \"dot\", \"degree\": 3.0, \"title\": 21, \"color\": \"#8BA8D3\", \"border_width\": 0, \"id\": 21}, {\"node_shape\": \"dot\", \"degree\": 3.0, \"title\": 22, \"color\": \"#8BA8D3\", \"border_width\": 0, \"id\": 22}, {\"node_shape\": \"dot\", \"degree\": 3.0, \"title\": 23, \"color\": \"#8BA8D3\", \"border_width\": 0, \"id\": 23}, {\"node_shape\": \"dot\", \"degree\": 3.0, \"title\": 24, \"color\": \"#8BA8D3\", \"border_width\": 0, \"id\": 24}, {\"node_shape\": \"dot\", \"degree\": 3.0, \"title\": 25, \"color\": \"#8BA8D3\", \"border_width\": 0, \"id\": 25}, {\"node_shape\": \"dot\", \"degree\": 3.0, \"title\": 26, \"color\": \"#8BA8D3\", \"border_width\": 0, \"id\": 26}, {\"node_shape\": \"dot\", \"degree\": 3.0, \"title\": 27, \"color\": \"#8BA8D3\", \"border_width\": 0, \"id\": 27}, {\"node_shape\": \"dot\", \"degree\": 3.0, \"title\": 28, \"color\": \"#8BA8D3\", \"border_width\": 0, \"id\": 28}, {\"node_shape\": \"dot\", \"degree\": 3.0, \"title\": 29, \"color\": \"#8BA8D3\", \"border_width\": 0, \"id\": 29}], [{\"source\": 0, \"target\": 1, \"title\": \"test\"}, {\"source\": 0, \"target\": 2, \"title\": \"test\"}, {\"source\": 0, \"target\": 5, \"title\": \"test\"}, {\"source\": 1, \"target\": 2, \"title\": \"test\"}, {\"source\": 1, \"target\": 20, \"title\": \"test\"}, {\"source\": 1, \"target\": 29, \"title\": \"test\"}, {\"source\": 2, \"target\": 3, \"title\": \"test\"}, {\"source\": 2, \"target\": 4, \"title\": \"test\"}, {\"source\": 3, \"target\": 4, \"title\": \"test\"}, {\"source\": 3, \"target\": 5, \"title\": \"test\"}, {\"source\": 4, \"target\": 5, \"title\": \"test\"}, {\"source\": 4, \"target\": 6, \"title\": \"test\"}, {\"source\": 4, \"target\": 29, \"title\": \"test\"}, {\"source\": 5, \"target\": 6, \"title\": \"test\"}, {\"source\": 5, \"target\": 8, \"title\": \"test\"}, {\"source\": 5, \"target\": 17, \"title\": \"test\"}, {\"source\": 5, \"target\": 19, \"title\": \"test\"}, {\"source\": 6, \"target\": 8, \"title\": \"test\"}, {\"source\": 6, \"target\": 24, \"title\": \"test\"}, {\"source\": 6, \"target\": 7, \"title\": \"test\"}, {\"source\": 7, \"target\": 9, \"title\": \"test\"}, {\"source\": 7, \"target\": 15, \"title\": \"test\"}, {\"source\": 8, \"target\": 9, \"title\": \"test\"}, {\"source\": 9, \"target\": 10, \"title\": \"test\"}, {\"source\": 9, \"target\": 12, \"title\": \"test\"}, {\"source\": 9, \"target\": 28, \"title\": \"test\"}, {\"source\": 10, \"target\": 11, \"title\": \"test\"}, {\"source\": 10, \"target\": 12, \"title\": \"test\"}, {\"source\": 11, \"target\": 12, \"title\": \"test\"}, {\"source\": 11, \"target\": 13, \"title\": \"test\"}, {\"source\": 12, \"target\": 13, \"title\": \"test\"}, {\"source\": 12, \"target\": 14, \"title\": \"test\"}, {\"source\": 13, \"target\": 14, \"title\": \"test\"}, {\"source\": 13, \"target\": 15, \"title\": \"test\"}, {\"source\": 14, \"target\": 16, \"title\": \"test\"}, {\"source\": 14, \"target\": 15, \"title\": \"test\"}, {\"source\": 15, \"target\": 16, \"title\": \"test\"}, {\"source\": 15, \"target\": 17, \"title\": \"test\"}, {\"source\": 16, \"target\": 17, \"title\": \"test\"}, {\"source\": 16, \"target\": 18, \"title\": \"test\"}, {\"source\": 16, \"target\": 23, \"title\": \"test\"}, {\"source\": 17, \"target\": 18, \"title\": \"test\"}, {\"source\": 18, \"target\": 19, \"title\": \"test\"}, {\"source\": 18, \"target\": 20, \"title\": \"test\"}, {\"source\": 19, \"target\": 20, \"title\": \"test\"}, {\"source\": 20, \"target\": 21, \"title\": \"test\"}, {\"source\": 20, \"target\": 22, \"title\": \"test\"}, {\"source\": 21, \"target\": 22, \"title\": \"test\"}, {\"source\": 21, \"target\": 23, \"title\": \"test\"}, {\"source\": 22, \"target\": 24, \"title\": \"test\"}, {\"source\": 22, \"target\": 23, \"title\": \"test\"}, {\"source\": 23, \"target\": 25, \"title\": \"test\"}, {\"source\": 24, \"target\": 25, \"title\": \"test\"}, {\"source\": 25, \"target\": 26, \"title\": \"test\"}, {\"source\": 25, \"target\": 27, \"title\": \"test\"}, {\"source\": 26, \"target\": 27, \"title\": \"test\"}, {\"source\": 26, \"target\": 28, \"title\": \"test\"}, {\"source\": 27, \"target\": 28, \"title\": \"test\"}, {\"source\": 27, \"target\": 29, \"title\": \"test\"}, {\"source\": 28, \"target\": 29, \"title\": \"test\"}]);}</script><iframe name=\"style_file0\" src=\"style_file0.html\" height=\"1200px\" width=\"100%;\"></iframe></body></html>"
      ],
      "text/plain": [
       "<IPython.core.display.HTML object>"
      ]
     },
     "execution_count": 6,
     "metadata": {},
     "output_type": "execute_result"
    }
   ],
   "source": [
    "nodes_dict = [{\"id\":n} for n in nodes]\n",
    "node_map = dict(zip(nodes,range(len(nodes))))  # map to indices for source/target in edges\n",
    "\n",
    "edges_dict = [{\"source\":node_map[edges[i][0]], \"target\":node_map[edges[i][1]], \n",
    "              \"title\":'test'} for i in range(len(edges))]\n",
    "\n",
    "visJS_module.visjs_network(nodes_dict,edges_dict,time_stamp=0)"
   ]
  },
  {
   "cell_type": "markdown",
   "metadata": {},
   "source": [
    "# Map node attributes to visual properties, and style the nodes and edges\n",
    "\n",
    "- To map node attributes to properties, simply add the property to the graph as a node-attribute, and use the return_node_to_color function"
   ]
  },
  {
   "cell_type": "code",
   "execution_count": 7,
   "metadata": {
    "collapsed": true
   },
   "outputs": [],
   "source": [
    "# add a node attributes to color-code by\n",
    "cc = nx.clustering(G)\n",
    "degree = G.degree()\n",
    "bc = nx.betweenness_centrality(G)\n",
    "nx.set_node_attributes(G,'clustering_coefficient',cc)\n",
    "nx.set_node_attributes(G,'degree',degree)\n",
    "nx.set_node_attributes(G,'betweenness_centrality',bc)\n",
    "\n",
    "\n",
    "    "
   ]
  },
  {
   "cell_type": "code",
   "execution_count": 8,
   "metadata": {
    "collapsed": false
   },
   "outputs": [
    {
     "data": {
      "text/html": [
       "<!doctype html><html><head>  <title>Network | Basic usage</title></head><body><script type=\"text/javascript\">function setUpFrame() {     var frame = window.frames[\"style_file1\"];    frame.runVis([{\"node_shape\": \"dot\", \"degree\": 3, \"title\": 0, \"color\": \"rgba(256, 213, 42, 1)\", \"y\": 672.83704066453879, \"x\": 41.016921642266148, \"border_width\": 0, \"id\": 0}, {\"node_shape\": \"dot\", \"degree\": 4, \"title\": 1, \"color\": \"rgba(256, 146, 109, 1)\", \"y\": 426.80393395663691, \"x\": 169.75492012314902, \"border_width\": 0, \"id\": 1}, {\"node_shape\": \"dot\", \"degree\": 4, \"title\": 2, \"color\": \"rgba(256, 217, 38, 1)\", \"y\": 747.45140063603685, \"x\": 88.810752061001693, \"border_width\": 0, \"id\": 2}, {\"node_shape\": \"dot\", \"degree\": 3, \"title\": 3, \"color\": \"rgba(256, 222, 33, 1)\", \"y\": 576.42666835108923, \"x\": 24.743809613136328, \"border_width\": 0, \"id\": 3}, {\"node_shape\": \"dot\", \"degree\": 5, \"title\": 4, \"color\": \"rgba(256, 150, 105, 1)\", \"y\": 494.09290614330666, \"x\": 304.88312823898923, \"border_width\": 0, \"id\": 4}, {\"node_shape\": \"dot\", \"degree\": 7, \"title\": 5, \"color\": \"rgba(256, 25, 230, 1)\", \"y\": 618.1404386978935, \"x\": 274.86272153862217, \"border_width\": 0, \"id\": 5}, {\"node_shape\": \"dot\", \"degree\": 5, \"title\": 6, \"color\": \"rgba(256, 109, 146, 1)\", \"y\": 416.87005648329233, \"x\": 514.78260238538212, \"border_width\": 0, \"id\": 6}, {\"node_shape\": \"dot\", \"degree\": 3, \"title\": 7, \"color\": \"rgba(256, 170, 85, 1)\", \"y\": 683.04870690645851, \"x\": 741.12023110663631, \"border_width\": 0, \"id\": 7}, {\"node_shape\": \"dot\", \"degree\": 3, \"title\": 8, \"color\": \"rgba(256, 158, 97, 1)\", \"y\": 532.11227589326779, \"x\": 657.08363647934777, \"border_width\": 0, \"id\": 8}, {\"node_shape\": \"dot\", \"degree\": 5, \"title\": 9, \"color\": \"rgba(256, 44, 211, 1)\", \"y\": 504.34798264812639, \"x\": 966.9580465662325, \"border_width\": 0, \"id\": 9}, {\"node_shape\": \"dot\", \"degree\": 3, \"title\": 10, \"color\": \"rgba(256, 211, 44, 1)\", \"y\": 629.21221747776201, \"x\": 1000.0, \"border_width\": 0, \"id\": 10}, {\"node_shape\": \"dot\", \"degree\": 3, \"title\": 11, \"color\": \"rgba(256, 227, 28, 1)\", \"y\": 815.77893480329897, \"x\": 890.11020332626072, \"border_width\": 0, \"id\": 11}, {\"node_shape\": \"dot\", \"degree\": 5, \"title\": 12, \"color\": \"rgba(256, 150, 105, 1)\", \"y\": 752.27322509366479, \"x\": 933.99433397199039, \"border_width\": 0, \"id\": 12}, {\"node_shape\": \"dot\", \"degree\": 4, \"title\": 13, \"color\": \"rgba(256, 199, 56, 1)\", \"y\": 909.60052830546692, \"x\": 787.40676509087041, \"border_width\": 0, \"id\": 13}, {\"node_shape\": \"dot\", \"degree\": 4, \"title\": 14, \"color\": \"rgba(256, 169, 86, 1)\", \"y\": 951.55753177972679, \"x\": 683.79650854015176, \"border_width\": 0, \"id\": 14}, {\"node_shape\": \"dot\", \"degree\": 5, \"title\": 15, \"color\": \"rgba(256, 135, 120, 1)\", \"y\": 953.28773050257098, \"x\": 552.5595987619198, \"border_width\": 0, \"id\": 15}, {\"node_shape\": \"dot\", \"degree\": 5, \"title\": 16, \"color\": \"rgba(256, 78, 177, 1)\", \"y\": 734.13431855231636, \"x\": 423.84253298759182, \"border_width\": 0, \"id\": 16}, {\"node_shape\": \"dot\", \"degree\": 4, \"title\": 17, \"color\": \"rgba(256, 140, 115, 1)\", \"y\": 887.74660285021957, \"x\": 292.23407821270689, \"border_width\": 0, \"id\": 17}, {\"node_shape\": \"dot\", \"degree\": 4, \"title\": 18, \"color\": \"rgba(256, 178, 77, 1)\", \"y\": 631.69663438749922, \"x\": 138.24834403421383, \"border_width\": 0, \"id\": 18}, {\"node_shape\": \"dot\", \"degree\": 3, \"title\": 19, \"color\": \"rgba(256, 201, 54, 1)\", \"y\": 439.67566208675083, \"x\": 0.0, \"border_width\": 0, \"id\": 19}, {\"node_shape\": \"dot\", \"degree\": 5, \"title\": 20, \"color\": \"rgba(256, 129, 126, 1)\", \"y\": 278.20006139814711, \"x\": 77.388008061759862, \"border_width\": 0, \"id\": 20}, {\"node_shape\": \"dot\", \"degree\": 3, \"title\": 21, \"color\": \"rgba(256, 222, 33, 1)\", \"y\": 122.39000458748963, \"x\": 171.08617334682077, \"border_width\": 0, \"id\": 21}, {\"node_shape\": \"dot\", \"degree\": 4, \"title\": 22, \"color\": \"rgba(256, 192, 63, 1)\", \"y\": 61.214321188826702, \"x\": 270.71586993351502, \"border_width\": 0, \"id\": 22}, {\"node_shape\": \"dot\", \"degree\": 4, \"title\": 23, \"color\": \"rgba(256, 123, 132, 1)\", \"y\": 226.3288048118352, \"x\": 385.92419624301857, \"border_width\": 0, \"id\": 23}, {\"node_shape\": \"dot\", \"degree\": 3, \"title\": 24, \"color\": \"rgba(256, 168, 87, 1)\", \"y\": 8.8630029023301944, \"x\": 466.29265071874022, \"border_width\": 0, \"id\": 24}, {\"node_shape\": \"dot\", \"degree\": 4, \"title\": 25, \"color\": \"rgba(256, 156, 99, 1)\", \"y\": 0.0, \"x\": 635.97737480597596, \"border_width\": 0, \"id\": 25}, {\"node_shape\": \"dot\", \"degree\": 3, \"title\": 26, \"color\": \"rgba(256, 218, 37, 1)\", \"y\": 61.580027223008607, \"x\": 793.73684297810053, \"border_width\": 0, \"id\": 26}, {\"node_shape\": \"dot\", \"degree\": 4, \"title\": 27, \"color\": \"rgba(256, 191, 64, 1)\", \"y\": 118.39387367537093, \"x\": 849.84170640361992, \"border_width\": 0, \"id\": 27}, {\"node_shape\": \"dot\", \"degree\": 4, \"title\": 28, \"color\": \"rgba(256, 125, 130, 1)\", \"y\": 226.70816608081432, \"x\": 943.41912493081168, \"border_width\": 0, \"id\": 28}, {\"node_shape\": \"dot\", \"degree\": 4, \"title\": 29, \"color\": \"rgba(256, 128, 127, 1)\", \"y\": 261.252061425546, \"x\": 584.34586893912319, \"border_width\": 0, \"id\": 29}], [{\"color\": \"gray\", \"source\": 0, \"target\": 1, \"title\": \"test\"}, {\"color\": \"gray\", \"source\": 0, \"target\": 2, \"title\": \"test\"}, {\"color\": \"gray\", \"source\": 0, \"target\": 5, \"title\": \"test\"}, {\"color\": \"gray\", \"source\": 1, \"target\": 2, \"title\": \"test\"}, {\"color\": \"gray\", \"source\": 1, \"target\": 20, \"title\": \"test\"}, {\"color\": \"gray\", \"source\": 1, \"target\": 29, \"title\": \"test\"}, {\"color\": \"gray\", \"source\": 2, \"target\": 3, \"title\": \"test\"}, {\"color\": \"gray\", \"source\": 2, \"target\": 4, \"title\": \"test\"}, {\"color\": \"gray\", \"source\": 3, \"target\": 4, \"title\": \"test\"}, {\"color\": \"gray\", \"source\": 3, \"target\": 5, \"title\": \"test\"}, {\"color\": \"gray\", \"source\": 4, \"target\": 5, \"title\": \"test\"}, {\"color\": \"gray\", \"source\": 4, \"target\": 6, \"title\": \"test\"}, {\"color\": \"gray\", \"source\": 4, \"target\": 29, \"title\": \"test\"}, {\"color\": \"gray\", \"source\": 5, \"target\": 6, \"title\": \"test\"}, {\"color\": \"gray\", \"source\": 5, \"target\": 8, \"title\": \"test\"}, {\"color\": \"gray\", \"source\": 5, \"target\": 17, \"title\": \"test\"}, {\"color\": \"gray\", \"source\": 5, \"target\": 19, \"title\": \"test\"}, {\"color\": \"gray\", \"source\": 6, \"target\": 8, \"title\": \"test\"}, {\"color\": \"gray\", \"source\": 6, \"target\": 24, \"title\": \"test\"}, {\"color\": \"gray\", \"source\": 6, \"target\": 7, \"title\": \"test\"}, {\"color\": \"gray\", \"source\": 7, \"target\": 9, \"title\": \"test\"}, {\"color\": \"gray\", \"source\": 7, \"target\": 15, \"title\": \"test\"}, {\"color\": \"gray\", \"source\": 8, \"target\": 9, \"title\": \"test\"}, {\"color\": \"gray\", \"source\": 9, \"target\": 10, \"title\": \"test\"}, {\"color\": \"gray\", \"source\": 9, \"target\": 12, \"title\": \"test\"}, {\"color\": \"gray\", \"source\": 9, \"target\": 28, \"title\": \"test\"}, {\"color\": \"gray\", \"source\": 10, \"target\": 11, \"title\": \"test\"}, {\"color\": \"gray\", \"source\": 10, \"target\": 12, \"title\": \"test\"}, {\"color\": \"gray\", \"source\": 11, \"target\": 12, \"title\": \"test\"}, {\"color\": \"gray\", \"source\": 11, \"target\": 13, \"title\": \"test\"}, {\"color\": \"gray\", \"source\": 12, \"target\": 13, \"title\": \"test\"}, {\"color\": \"gray\", \"source\": 12, \"target\": 14, \"title\": \"test\"}, {\"color\": \"gray\", \"source\": 13, \"target\": 14, \"title\": \"test\"}, {\"color\": \"gray\", \"source\": 13, \"target\": 15, \"title\": \"test\"}, {\"color\": \"gray\", \"source\": 14, \"target\": 16, \"title\": \"test\"}, {\"color\": \"gray\", \"source\": 14, \"target\": 15, \"title\": \"test\"}, {\"color\": \"gray\", \"source\": 15, \"target\": 16, \"title\": \"test\"}, {\"color\": \"gray\", \"source\": 15, \"target\": 17, \"title\": \"test\"}, {\"color\": \"gray\", \"source\": 16, \"target\": 17, \"title\": \"test\"}, {\"color\": \"gray\", \"source\": 16, \"target\": 18, \"title\": \"test\"}, {\"color\": \"gray\", \"source\": 16, \"target\": 23, \"title\": \"test\"}, {\"color\": \"gray\", \"source\": 17, \"target\": 18, \"title\": \"test\"}, {\"color\": \"gray\", \"source\": 18, \"target\": 19, \"title\": \"test\"}, {\"color\": \"gray\", \"source\": 18, \"target\": 20, \"title\": \"test\"}, {\"color\": \"gray\", \"source\": 19, \"target\": 20, \"title\": \"test\"}, {\"color\": \"gray\", \"source\": 20, \"target\": 21, \"title\": \"test\"}, {\"color\": \"gray\", \"source\": 20, \"target\": 22, \"title\": \"test\"}, {\"color\": \"gray\", \"source\": 21, \"target\": 22, \"title\": \"test\"}, {\"color\": \"gray\", \"source\": 21, \"target\": 23, \"title\": \"test\"}, {\"color\": \"gray\", \"source\": 22, \"target\": 24, \"title\": \"test\"}, {\"color\": \"gray\", \"source\": 22, \"target\": 23, \"title\": \"test\"}, {\"color\": \"gray\", \"source\": 23, \"target\": 25, \"title\": \"test\"}, {\"color\": \"gray\", \"source\": 24, \"target\": 25, \"title\": \"test\"}, {\"color\": \"gray\", \"source\": 25, \"target\": 26, \"title\": \"test\"}, {\"color\": \"gray\", \"source\": 25, \"target\": 27, \"title\": \"test\"}, {\"color\": \"gray\", \"source\": 26, \"target\": 27, \"title\": \"test\"}, {\"color\": \"gray\", \"source\": 26, \"target\": 28, \"title\": \"test\"}, {\"color\": \"gray\", \"source\": 27, \"target\": 28, \"title\": \"test\"}, {\"color\": \"gray\", \"source\": 27, \"target\": 29, \"title\": \"test\"}, {\"color\": \"gray\", \"source\": 28, \"target\": 29, \"title\": \"test\"}]);}</script><iframe name=\"style_file1\" src=\"style_file1.html\" height=\"1200px\" width=\"100%;\"></iframe></body></html>"
      ],
      "text/plain": [
       "<IPython.core.display.HTML object>"
      ]
     },
     "execution_count": 8,
     "metadata": {},
     "output_type": "execute_result"
    }
   ],
   "source": [
    "node_to_color = visJS_module.return_node_to_color(G,field_to_map='betweenness_centrality',cmap=mpl.cm.spring_r,alpha = 1,\n",
    "                                                 color_max_frac = .9,color_min_frac = .1)\n",
    "\n",
    "nodes_dict = [{\"id\":n,\"color\":node_to_color[n],\n",
    "               \"degree\":nx.degree(G,n),\n",
    "              \"x\":pos[n][0]*1000,\n",
    "              \"y\":pos[n][1]*1000} for n in nodes\n",
    "              ]\n",
    "node_map = dict(zip(nodes,range(len(nodes))))  # map to indices for source/target in edges\n",
    "edges_dict = [{\"source\":node_map[edges[i][0]], \"target\":node_map[edges[i][1]], \n",
    "              \"color\":\"gray\",\"title\":'test'} for i in range(len(edges))]\n",
    "\n",
    "visJS_module.visjs_network(nodes_dict,edges_dict,time_stamp=1,\n",
    "                          node_size_multiplier=5,\n",
    "                          node_size_transform = '',\n",
    "                          node_color_highlight_border='red',\n",
    "                          node_color_highlight_background='#D3918B',\n",
    "                          node_color_hover_border='blue',\n",
    "                          node_color_hover_background='#8BADD3',\n",
    "                          node_font_size=25,\n",
    "                          edge_arrow_to=True,\n",
    "                          edge_color_highlight='#8A324E',\n",
    "                          edge_color_hover='#8BADD3',\n",
    "                          edge_width=3,\n",
    "                          max_velocity=15)\n",
    "\n"
   ]
  },
  {
   "cell_type": "code",
   "execution_count": null,
   "metadata": {
    "collapsed": true
   },
   "outputs": [],
   "source": []
  },
  {
   "cell_type": "code",
   "execution_count": null,
   "metadata": {
    "collapsed": true
   },
   "outputs": [],
   "source": []
  }
 ],
 "metadata": {
  "kernelspec": {
   "display_name": "Python 2",
   "language": "python",
   "name": "python2"
  },
  "language_info": {
   "codemirror_mode": {
    "name": "ipython",
    "version": 2
   },
   "file_extension": ".py",
   "mimetype": "text/x-python",
   "name": "python",
   "nbconvert_exporter": "python",
   "pygments_lexer": "ipython2",
   "version": "2.7.11"
  }
 },
 "nbformat": 4,
 "nbformat_minor": 0
}
